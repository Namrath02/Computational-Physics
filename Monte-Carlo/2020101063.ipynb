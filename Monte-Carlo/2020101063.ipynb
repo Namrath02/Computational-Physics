{
 "cells": [
  {
   "cell_type": "markdown",
   "metadata": {},
   "source": [
    "## Task-0 : Simulating a random walk for n steps  \n",
    "\n",
    "In this task, we have defined the function random_walk(n) which takes an integer n as input and randomises a walk of n steps, and plotted it using the function plot_random_walk(n)."
   ]
  },
  {
   "cell_type": "code",
   "execution_count": null,
   "metadata": {},
   "outputs": [],
   "source": [
    "import numpy as np\n",
    "import matplotlib.pyplot as plt\n",
    "\n",
    "#1d random walk\n",
    "def random_walk(n):\n",
    "    x = np.zeros(n)\n",
    "    x[0] = 0\n",
    "    for i in range(1,n):\n",
    "        step = np.random.choice([-1,1])\n",
    "        x[i] = x[i-1] + step\n",
    "    return x\n",
    "\n",
    "# plot the random walk \n",
    "def plot_random_walk(n):\n",
    "    x = random_walk(n)\n",
    "    plt.plot(x)\n",
    "    plt.xlabel('Steps')\n",
    "    plt.ylabel('Displacement')\n",
    "    plt.title('Random Walk')\n",
    "    plt.show()\n",
    "\n",
    "plot_random_walk(250)"
   ]
  },
  {
   "cell_type": "markdown",
   "metadata": {},
   "source": [
    "## Task-1 : Simulating a random walk for two people"
   ]
  },
  {
   "cell_type": "markdown",
   "metadata": {},
   "source": [
    "### Part-1: Probability of them meeting at the end of the walk"
   ]
  },
  {
   "cell_type": "code",
   "execution_count": null,
   "metadata": {},
   "outputs": [],
   "source": [
    "arr = []\n",
    "for N in range(1,200):\n",
    "    chance =0\n",
    "    for i in range(100):\n",
    "        x1 = random_walk(N)\n",
    "        x2 = random_walk(N)\n",
    "        if x1[N-1] == x2[N-1]:\n",
    "            chance += 1\n",
    "    arr.append(chance/100)\n",
    "\n",
    "plt.plot(arr);\n",
    "plt.xlabel(\"Number of steps\")\n",
    "plt.ylabel(\"Probability\")\n",
    "plt.title(\"Probability of meeting at the same step\")\n",
    "plt.show()"
   ]
  },
  {
   "cell_type": "markdown",
   "metadata": {},
   "source": [
    "### Part 2: Probability that a drunk man returns to origin at the end for various N values"
   ]
  },
  {
   "cell_type": "code",
   "execution_count": null,
   "metadata": {},
   "outputs": [],
   "source": [
    "arrr = []\n",
    "for N in range(1,200):\n",
    "    chance =0\n",
    "    for i in range(100):\n",
    "        x1 = random_walk(N)\n",
    "        if x1[N-1] == 0:\n",
    "            chance += 1\n",
    "    arrr.append(chance/100)\n",
    "\n",
    "plt.plot(arrr);\n",
    "plt.xlabel(\"Number of steps\")\n",
    "plt.ylabel(\"Probability of returning at origin\")\n",
    "plt.title(\"Probability vs Steps\")\n",
    "plt.show()"
   ]
  },
  {
   "cell_type": "markdown",
   "metadata": {},
   "source": [
    "### Part 3: Mean and Mean Squared Displacement after N steps "
   ]
  },
  {
   "cell_type": "code",
   "execution_count": null,
   "metadata": {},
   "outputs": [],
   "source": [
    "arr13 = [] #mean\n",
    "arr14=[] #mean square\n",
    "for N in range(1,200):\n",
    "    temp=[]\n",
    "    for i in range(100):\n",
    "        x1 = random_walk(N)\n",
    "        temp.append(x1)\n",
    "    arr13.append(np.mean(temp))\n",
    "    arr14.append(np.mean(np.square(temp)))\n",
    "\n",
    "\n",
    "plt.plot(arr13);\n",
    "plt.ylabel('Mean')\n",
    "plt.xlabel('No.of Steps in Random Walk')\n",
    "plt.title('Mean v No.of Steps')\n",
    "plt.show()"
   ]
  },
  {
   "cell_type": "code",
   "execution_count": null,
   "metadata": {},
   "outputs": [],
   "source": [
    "plt.plot(arr14);\n",
    "plt.ylabel('MeanSquare')\n",
    "plt.xlabel('No.of Steps in Random Walk')\n",
    "plt.title('MeanSquare v No.of Steps')\n",
    "plt.show()"
   ]
  },
  {
   "cell_type": "markdown",
   "metadata": {},
   "source": [
    "## Task-3 : Monte Carlo Simulation"
   ]
  },
  {
   "cell_type": "code",
   "execution_count": null,
   "metadata": {},
   "outputs": [],
   "source": [
    "arr3=[]\n",
    "N=0\n",
    "N=int(input(\"Enter the number of elements:\"))\n",
    "\n",
    "for j in range(100):\n",
    "    chance=0\n",
    "    pt=np.random.rand(N,2)\n",
    "    for i in range(N):\n",
    "        if pt[i][0]*pt[i][0] + pt[i][1]*pt[i][1] <= 1:\n",
    "            chance+=1\n",
    "    pival = 4*(chance/N)\n",
    "    arr3.append(pival)\n",
    "\n",
    "print(\"Value of PI obtained for\",N, \"pebbles is \",np.mean(arr3))"
   ]
  }
 ],
 "metadata": {
  "interpreter": {
   "hash": "31f2aee4e71d21fbe5cf8b01ff0e069b9275f58929596ceb00d14d90e3e16cd6"
  },
  "kernelspec": {
   "display_name": "Python 3 (ipykernel)",
   "language": "python",
   "name": "python3"
  },
  "orig_nbformat": 4
 },
 "nbformat": 4,
 "nbformat_minor": 2
}
